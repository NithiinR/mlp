{
 "cells": [
  {
   "cell_type": "code",
   "execution_count": 1,
   "id": "c0fa9959-9af5-44a0-b89f-1a7001df6bfb",
   "metadata": {},
   "outputs": [],
   "source": [
    "# Numpy turns your data into a series of numbers \n",
    "# ml algo finds patterns in those numbers\n",
    "#data analysis\n",
    "# fast\n",
    "# behind the scenes optimizations in c\n",
    "# vectorization via broadcasting (avoiding loops)\n",
    "# backbone of other python scientific packages\n"
   ]
  },
  {
   "cell_type": "code",
   "execution_count": 2,
   "id": "de6e10fc-22c2-4fc5-8971-e36b87ca1489",
   "metadata": {},
   "outputs": [],
   "source": [
    "import numpy as np"
   ]
  },
  {
   "cell_type": "markdown",
   "id": "e89ad528-eee3-4ad9-a86f-cc3be0db5926",
   "metadata": {},
   "source": [
    "# 1.Datatypes and Attributes"
   ]
  },
  {
   "cell_type": "code",
   "execution_count": 3,
   "id": "47ca1d9d-cd79-48ee-90ad-0e25d2052db5",
   "metadata": {},
   "outputs": [
    {
     "data": {
      "text/plain": [
       "array([1, 2, 3])"
      ]
     },
     "execution_count": 3,
     "metadata": {},
     "output_type": "execute_result"
    }
   ],
   "source": [
    "# numpy main data type is ndarray\n",
    "a1 = np.array([1,2,3])\n",
    "a1"
   ]
  },
  {
   "cell_type": "code",
   "execution_count": 4,
   "id": "a94e3c1c-6660-4c17-80fb-549d4d0ffac0",
   "metadata": {},
   "outputs": [
    {
     "data": {
      "text/plain": [
       "numpy.ndarray"
      ]
     },
     "execution_count": 4,
     "metadata": {},
     "output_type": "execute_result"
    }
   ],
   "source": [
    "type(a1)"
   ]
  },
  {
   "cell_type": "code",
   "execution_count": 5,
   "id": "770a5d2c-215b-4821-b779-78a051e0d4c1",
   "metadata": {},
   "outputs": [],
   "source": [
    "a2 = np.array([[1,2.0,3.3],\n",
    "               [4,5,6]])\n",
    "a3 = np.array([[[1,2,3],[4,5,6],[7,8,9]],\n",
    "              [[10,11,12],[13,14,15],[16,17,18]]])\n"
   ]
  },
  {
   "cell_type": "code",
   "execution_count": 6,
   "id": "dbbfc6e2-82f1-4b4e-bcfd-d28b910be7e4",
   "metadata": {},
   "outputs": [
    {
     "data": {
      "text/plain": [
       "array([[1. , 2. , 3.3],\n",
       "       [4. , 5. , 6. ]])"
      ]
     },
     "execution_count": 6,
     "metadata": {},
     "output_type": "execute_result"
    }
   ],
   "source": [
    "a2"
   ]
  },
  {
   "cell_type": "code",
   "execution_count": 7,
   "id": "607a8d92-fea2-4b61-9d0b-a5abed647f44",
   "metadata": {},
   "outputs": [
    {
     "data": {
      "text/plain": [
       "array([[[ 1,  2,  3],\n",
       "        [ 4,  5,  6],\n",
       "        [ 7,  8,  9]],\n",
       "\n",
       "       [[10, 11, 12],\n",
       "        [13, 14, 15],\n",
       "        [16, 17, 18]]])"
      ]
     },
     "execution_count": 7,
     "metadata": {},
     "output_type": "execute_result"
    }
   ],
   "source": [
    "a3"
   ]
  },
  {
   "cell_type": "code",
   "execution_count": 8,
   "id": "5ca7ac7b-60a5-4127-917a-c9df7be8257f",
   "metadata": {},
   "outputs": [
    {
     "data": {
      "text/plain": [
       "(3,)"
      ]
     },
     "execution_count": 8,
     "metadata": {},
     "output_type": "execute_result"
    }
   ],
   "source": [
    "a1.shape"
   ]
  },
  {
   "cell_type": "code",
   "execution_count": 9,
   "id": "d83eba5d-3ae8-4cab-9d65-ab98c1b7ad8b",
   "metadata": {},
   "outputs": [
    {
     "data": {
      "text/plain": [
       "(2, 3)"
      ]
     },
     "execution_count": 9,
     "metadata": {},
     "output_type": "execute_result"
    }
   ],
   "source": [
    "a2.shape"
   ]
  },
  {
   "cell_type": "code",
   "execution_count": 10,
   "id": "3e09fc99-bd8a-4ba5-8152-02a3f7ee9099",
   "metadata": {},
   "outputs": [
    {
     "data": {
      "text/plain": [
       "(2, 3, 3)"
      ]
     },
     "execution_count": 10,
     "metadata": {},
     "output_type": "execute_result"
    }
   ],
   "source": [
    "a3.shape"
   ]
  },
  {
   "cell_type": "code",
   "execution_count": 11,
   "id": "e44aada4-4b63-42dd-a8b2-3ab38481d7f6",
   "metadata": {},
   "outputs": [
    {
     "data": {
      "text/plain": [
       "dtype('int32')"
      ]
     },
     "execution_count": 11,
     "metadata": {},
     "output_type": "execute_result"
    }
   ],
   "source": [
    "a1.dtype"
   ]
  },
  {
   "cell_type": "code",
   "execution_count": 12,
   "id": "fc7746b0-c074-4ba5-892c-23913dac5261",
   "metadata": {},
   "outputs": [
    {
     "data": {
      "text/plain": [
       "dtype('float64')"
      ]
     },
     "execution_count": 12,
     "metadata": {},
     "output_type": "execute_result"
    }
   ],
   "source": [
    "a2.dtype"
   ]
  },
  {
   "cell_type": "code",
   "execution_count": 13,
   "id": "b24f5213-6225-4aec-8b2d-fe3c50260c74",
   "metadata": {},
   "outputs": [
    {
     "data": {
      "text/plain": [
       "(1, 2, 3)"
      ]
     },
     "execution_count": 13,
     "metadata": {},
     "output_type": "execute_result"
    }
   ],
   "source": [
    "a1.ndim, a2.ndim, a3.ndim"
   ]
  },
  {
   "cell_type": "code",
   "execution_count": 14,
   "id": "c2902cb2-61d5-4150-b7d9-784607f8b24a",
   "metadata": {},
   "outputs": [
    {
     "data": {
      "text/plain": [
       "(3, 6, 18)"
      ]
     },
     "execution_count": 14,
     "metadata": {},
     "output_type": "execute_result"
    }
   ],
   "source": [
    "a1.size, a2.size, a3.size"
   ]
  },
  {
   "cell_type": "code",
   "execution_count": 15,
   "id": "00d38608-a7c6-4739-b156-ab07677ec1d7",
   "metadata": {},
   "outputs": [
    {
     "data": {
      "text/plain": [
       "(numpy.ndarray, numpy.ndarray, numpy.ndarray)"
      ]
     },
     "execution_count": 15,
     "metadata": {},
     "output_type": "execute_result"
    }
   ],
   "source": [
    "type(a1), type(a2), type(a3)"
   ]
  },
  {
   "cell_type": "code",
   "execution_count": 16,
   "id": "1bb808fc-797f-45d3-96bd-b13bcf34184c",
   "metadata": {},
   "outputs": [
    {
     "data": {
      "text/html": [
       "<div>\n",
       "<style scoped>\n",
       "    .dataframe tbody tr th:only-of-type {\n",
       "        vertical-align: middle;\n",
       "    }\n",
       "\n",
       "    .dataframe tbody tr th {\n",
       "        vertical-align: top;\n",
       "    }\n",
       "\n",
       "    .dataframe thead th {\n",
       "        text-align: right;\n",
       "    }\n",
       "</style>\n",
       "<table border=\"1\" class=\"dataframe\">\n",
       "  <thead>\n",
       "    <tr style=\"text-align: right;\">\n",
       "      <th></th>\n",
       "      <th>0</th>\n",
       "      <th>1</th>\n",
       "      <th>2</th>\n",
       "    </tr>\n",
       "  </thead>\n",
       "  <tbody>\n",
       "    <tr>\n",
       "      <th>0</th>\n",
       "      <td>1.0</td>\n",
       "      <td>2.0</td>\n",
       "      <td>3.3</td>\n",
       "    </tr>\n",
       "    <tr>\n",
       "      <th>1</th>\n",
       "      <td>4.0</td>\n",
       "      <td>5.0</td>\n",
       "      <td>6.0</td>\n",
       "    </tr>\n",
       "  </tbody>\n",
       "</table>\n",
       "</div>"
      ],
      "text/plain": [
       "     0    1    2\n",
       "0  1.0  2.0  3.3\n",
       "1  4.0  5.0  6.0"
      ]
     },
     "execution_count": 16,
     "metadata": {},
     "output_type": "execute_result"
    }
   ],
   "source": [
    "# Dataframe from numpy array\n",
    "import pandas as pd\n",
    "df = pd.DataFrame(a2)\n",
    "df"
   ]
  },
  {
   "cell_type": "code",
   "execution_count": 17,
   "id": "40ac66e1-a375-43bd-95bb-90a33142bada",
   "metadata": {},
   "outputs": [
    {
     "data": {
      "text/plain": [
       "array([[1. , 2. , 3.3],\n",
       "       [4. , 5. , 6. ]])"
      ]
     },
     "execution_count": 17,
     "metadata": {},
     "output_type": "execute_result"
    }
   ],
   "source": [
    " a2"
   ]
  },
  {
   "cell_type": "markdown",
   "id": "41689c70-685f-4693-a47b-35425eac2e2d",
   "metadata": {},
   "source": [
    "# 2.Creating arrays"
   ]
  },
  {
   "cell_type": "code",
   "execution_count": 18,
   "id": "988ea1a6-fe2a-4dc2-847b-cb23cad53709",
   "metadata": {},
   "outputs": [
    {
     "data": {
      "text/plain": [
       "array([1, 2, 3])"
      ]
     },
     "execution_count": 18,
     "metadata": {},
     "output_type": "execute_result"
    }
   ],
   "source": [
    "sample = np.array([1,2,3])\n",
    "sample"
   ]
  },
  {
   "cell_type": "code",
   "execution_count": 19,
   "id": "b7bb7cd9-ba8d-4bf3-a295-5ded389d5ba5",
   "metadata": {},
   "outputs": [
    {
     "data": {
      "text/plain": [
       "array([[1., 1., 1.],\n",
       "       [1., 1., 1.]])"
      ]
     },
     "execution_count": 19,
     "metadata": {},
     "output_type": "execute_result"
    }
   ],
   "source": [
    "#shift + tab tells documentation of numpy \n",
    "# size parameter passing should be done like size=(m,n) / (m,n)\n",
    "ones = np.ones((2,3))\n",
    "ones"
   ]
  },
  {
   "cell_type": "code",
   "execution_count": 20,
   "id": "033eac34-dece-4fc4-a6cd-f853de5c0be7",
   "metadata": {},
   "outputs": [
    {
     "data": {
      "text/plain": [
       "dtype('float64')"
      ]
     },
     "execution_count": 20,
     "metadata": {},
     "output_type": "execute_result"
    }
   ],
   "source": [
    "ones.dtype"
   ]
  },
  {
   "cell_type": "code",
   "execution_count": 21,
   "id": "647c4f8d-3a91-49ef-8872-fb3da212df8d",
   "metadata": {},
   "outputs": [
    {
     "data": {
      "text/plain": [
       "numpy.ndarray"
      ]
     },
     "execution_count": 21,
     "metadata": {},
     "output_type": "execute_result"
    }
   ],
   "source": [
    "type(ones)"
   ]
  },
  {
   "cell_type": "code",
   "execution_count": 22,
   "id": "3c6bfab5-4819-4e09-b78e-086a2cd268c3",
   "metadata": {},
   "outputs": [
    {
     "data": {
      "text/plain": [
       "array([[0., 0., 0.],\n",
       "       [0., 0., 0.]])"
      ]
     },
     "execution_count": 22,
     "metadata": {},
     "output_type": "execute_result"
    }
   ],
   "source": [
    "zeros = np.zeros((2,3))\n",
    "zeros"
   ]
  },
  {
   "cell_type": "code",
   "execution_count": 23,
   "id": "34e11806-3df5-419f-baf7-75f966ab8d72",
   "metadata": {},
   "outputs": [
    {
     "data": {
      "text/plain": [
       "array([0, 2, 4, 6, 8])"
      ]
     },
     "execution_count": 23,
     "metadata": {},
     "output_type": "execute_result"
    }
   ],
   "source": [
    "range_array = np.arange(0,10,2)\n",
    "range_array"
   ]
  },
  {
   "cell_type": "code",
   "execution_count": 24,
   "id": "0691d3da-bb6b-4bcb-8c59-f732c196c18b",
   "metadata": {},
   "outputs": [
    {
     "data": {
      "text/plain": [
       "array([[0, 7, 0, 2, 2],\n",
       "       [2, 8, 1, 9, 4],\n",
       "       [8, 6, 8, 9, 8]])"
      ]
     },
     "execution_count": 24,
     "metadata": {},
     "output_type": "execute_result"
    }
   ],
   "source": [
    "random_array = np.random.randint(0,10,size=(3,5))\n",
    "random_array                                 "
   ]
  },
  {
   "cell_type": "code",
   "execution_count": 25,
   "id": "bb3c60af-0f43-47f4-a405-42e0e38d4981",
   "metadata": {},
   "outputs": [
    {
     "data": {
      "text/plain": [
       "15"
      ]
     },
     "execution_count": 25,
     "metadata": {},
     "output_type": "execute_result"
    }
   ],
   "source": [
    "random_array.size"
   ]
  },
  {
   "cell_type": "code",
   "execution_count": 26,
   "id": "565a6120-3975-41eb-b603-97d7831a577f",
   "metadata": {},
   "outputs": [
    {
     "data": {
      "text/plain": [
       "(3, 5)"
      ]
     },
     "execution_count": 26,
     "metadata": {},
     "output_type": "execute_result"
    }
   ],
   "source": [
    "random_array.shape"
   ]
  },
  {
   "cell_type": "code",
   "execution_count": 27,
   "id": "dce40584-13d8-46e7-931c-a7d69999ce4f",
   "metadata": {},
   "outputs": [
    {
     "data": {
      "text/plain": [
       "array([[0.43693671, 0.04967487, 0.03666049],\n",
       "       [0.49225719, 0.81160425, 0.89694002],\n",
       "       [0.24742777, 0.62892043, 0.17736818],\n",
       "       [0.88030202, 0.7296175 , 0.8504574 ],\n",
       "       [0.48848066, 0.22025468, 0.81549534]])"
      ]
     },
     "execution_count": 27,
     "metadata": {},
     "output_type": "execute_result"
    }
   ],
   "source": [
    "random_array_2 = np.random.random((5,3))\n",
    "random_array_2"
   ]
  },
  {
   "cell_type": "code",
   "execution_count": 28,
   "id": "71b4ebc6-6f33-4f47-b171-f2e8edb65f13",
   "metadata": {},
   "outputs": [
    {
     "data": {
      "text/plain": [
       "(5, 3)"
      ]
     },
     "execution_count": 28,
     "metadata": {},
     "output_type": "execute_result"
    }
   ],
   "source": [
    "random_array_2.shape"
   ]
  },
  {
   "cell_type": "code",
   "execution_count": 29,
   "id": "23580c8c-e6a0-4504-9749-670c6ac70b1d",
   "metadata": {},
   "outputs": [
    {
     "data": {
      "text/plain": [
       "array([[0.76352352, 0.16949296, 0.90230428],\n",
       "       [0.82294401, 0.02791142, 0.38134652],\n",
       "       [0.05138968, 0.1026973 , 0.62403466],\n",
       "       [0.95388045, 0.31056692, 0.82279857],\n",
       "       [0.02548466, 0.35870753, 0.68286641]])"
      ]
     },
     "execution_count": 29,
     "metadata": {},
     "output_type": "execute_result"
    }
   ],
   "source": [
    "random_array_3 = np.random.rand(5,3)\n",
    "random_array_3 "
   ]
  },
  {
   "cell_type": "code",
   "execution_count": 30,
   "id": "18318d54-5c61-4726-b62b-8c1b9d342009",
   "metadata": {},
   "outputs": [
    {
     "data": {
      "text/plain": [
       "array([[1, 4, 8],\n",
       "       [5, 5, 2],\n",
       "       [0, 8, 5],\n",
       "       [7, 9, 6],\n",
       "       [1, 2, 6]])"
      ]
     },
     "execution_count": 30,
     "metadata": {},
     "output_type": "execute_result"
    }
   ],
   "source": [
    "# Pseudo random numbers\n",
    "# np.random.seed(seed=0)\n",
    "# setting random seed to some value does not allow our random numbers to change so that someone \n",
    "# else using our notebook can generate the exact random numbers like us \n",
    "# the random numbers generated depends on the seed value \n",
    "random_array_4 = np.random.randint(10,size=(5,3))\n",
    "random_array_4"
   ]
  },
  {
   "cell_type": "code",
   "execution_count": 31,
   "id": "915017ce-b4b2-406c-b453-5a7460cfbac9",
   "metadata": {},
   "outputs": [
    {
     "data": {
      "text/plain": [
       "(5, 3)"
      ]
     },
     "execution_count": 31,
     "metadata": {},
     "output_type": "execute_result"
    }
   ],
   "source": [
    "random_array_4.shape"
   ]
  },
  {
   "cell_type": "markdown",
   "id": "94b5493e-abc0-4977-8c85-1671c19f40b2",
   "metadata": {},
   "source": [
    "# 3.Viewing Arrays and Matrices"
   ]
  },
  {
   "cell_type": "code",
   "execution_count": 32,
   "id": "fd90e69f-7da5-40d3-8fee-b9bb8837bb25",
   "metadata": {},
   "outputs": [
    {
     "data": {
      "text/plain": [
       "array([0, 1, 2, 4, 5, 6, 7, 8, 9])"
      ]
     },
     "execution_count": 32,
     "metadata": {},
     "output_type": "execute_result"
    }
   ],
   "source": [
    "# to find unique elements in ndarray\n",
    "np.unique(random_array_4)"
   ]
  },
  {
   "cell_type": "code",
   "execution_count": 33,
   "id": "b21f1c2e-9a77-41cb-9f59-430a8f7c2703",
   "metadata": {},
   "outputs": [
    {
     "data": {
      "text/plain": [
       "(array([1, 2, 3]),\n",
       " array([[1. , 2. , 3.3],\n",
       "        [4. , 5. , 6. ]]),\n",
       " array([[[ 1,  2,  3],\n",
       "         [ 4,  5,  6],\n",
       "         [ 7,  8,  9]],\n",
       " \n",
       "        [[10, 11, 12],\n",
       "         [13, 14, 15],\n",
       "         [16, 17, 18]]]))"
      ]
     },
     "execution_count": 33,
     "metadata": {},
     "output_type": "execute_result"
    }
   ],
   "source": [
    "a1, a2, a3"
   ]
  },
  {
   "cell_type": "code",
   "execution_count": 34,
   "id": "a0c876bb-df23-4d11-b4ea-6380f06c7dea",
   "metadata": {},
   "outputs": [
    {
     "data": {
      "text/plain": [
       "1"
      ]
     },
     "execution_count": 34,
     "metadata": {},
     "output_type": "execute_result"
    }
   ],
   "source": [
    "a1[0]"
   ]
  },
  {
   "cell_type": "code",
   "execution_count": 35,
   "id": "97fae5d1-cf1d-4dc2-ba17-d2bcab027500",
   "metadata": {},
   "outputs": [
    {
     "data": {
      "text/plain": [
       "array([[[ 1,  2,  3],\n",
       "        [ 4,  5,  6],\n",
       "        [ 7,  8,  9]],\n",
       "\n",
       "       [[10, 11, 12],\n",
       "        [13, 14, 15],\n",
       "        [16, 17, 18]]])"
      ]
     },
     "execution_count": 35,
     "metadata": {},
     "output_type": "execute_result"
    }
   ],
   "source": [
    "a3"
   ]
  },
  {
   "cell_type": "code",
   "execution_count": 36,
   "id": "44d52749-38c7-4368-8977-cd5b2745f3d9",
   "metadata": {},
   "outputs": [
    {
     "data": {
      "text/plain": [
       "array([[[ 1,  2],\n",
       "        [ 4,  5]],\n",
       "\n",
       "       [[10, 11],\n",
       "        [13, 14]]])"
      ]
     },
     "execution_count": 36,
     "metadata": {},
     "output_type": "execute_result"
    }
   ],
   "source": [
    "a3[:2,:2,:2]"
   ]
  },
  {
   "cell_type": "code",
   "execution_count": 37,
   "id": "a6bdfe37-62d3-414e-9047-e4f14584663c",
   "metadata": {},
   "outputs": [
    {
     "data": {
      "text/plain": [
       "array([[[[0, 6, 1, 6, 1],\n",
       "         [3, 3, 0, 1, 9],\n",
       "         [5, 2, 2, 9, 1],\n",
       "         [6, 5, 5, 8, 0]],\n",
       "\n",
       "        [[9, 1, 3, 5, 3],\n",
       "         [6, 5, 6, 6, 0],\n",
       "         [2, 4, 8, 7, 0],\n",
       "         [6, 3, 0, 6, 4]],\n",
       "\n",
       "        [[8, 3, 8, 5, 5],\n",
       "         [1, 2, 9, 9, 9],\n",
       "         [7, 3, 7, 3, 3],\n",
       "         [4, 0, 5, 7, 6]]],\n",
       "\n",
       "\n",
       "       [[[1, 8, 6, 7, 6],\n",
       "         [1, 4, 1, 8, 7],\n",
       "         [0, 9, 5, 5, 0],\n",
       "         [2, 7, 8, 8, 4]],\n",
       "\n",
       "        [[9, 9, 7, 9, 7],\n",
       "         [2, 6, 4, 6, 8],\n",
       "         [9, 1, 3, 4, 4],\n",
       "         [6, 7, 2, 4, 7]],\n",
       "\n",
       "        [[9, 0, 5, 5, 1],\n",
       "         [2, 9, 2, 8, 6],\n",
       "         [1, 7, 1, 1, 6],\n",
       "         [2, 6, 0, 0, 3]]]])"
      ]
     },
     "execution_count": 37,
     "metadata": {},
     "output_type": "execute_result"
    }
   ],
   "source": [
    "a4 = np.random.randint(10,size=(2,3,4,5))\n",
    "a4"
   ]
  },
  {
   "cell_type": "code",
   "execution_count": 38,
   "id": "3058ba7b-734e-4e7d-b8ff-d55fdf7b3e15",
   "metadata": {},
   "outputs": [
    {
     "data": {
      "text/plain": [
       "((2, 3, 4, 5), 4)"
      ]
     },
     "execution_count": 38,
     "metadata": {},
     "output_type": "execute_result"
    }
   ],
   "source": [
    "a4.shape, a4.ndim"
   ]
  },
  {
   "cell_type": "code",
   "execution_count": 39,
   "id": "72fd73f0-ea2f-4284-a9a5-40efe0419920",
   "metadata": {},
   "outputs": [
    {
     "data": {
      "text/plain": [
       "array([9, 9, 7, 9, 7])"
      ]
     },
     "execution_count": 39,
     "metadata": {},
     "output_type": "execute_result"
    }
   ],
   "source": [
    "a4[1][1][0]"
   ]
  },
  {
   "cell_type": "code",
   "execution_count": 40,
   "id": "44abee03-bd65-4bda-8417-502145330830",
   "metadata": {},
   "outputs": [
    {
     "data": {
      "text/plain": [
       "array([[[[0, 6, 1],\n",
       "         [3, 3, 0],\n",
       "         [5, 2, 2],\n",
       "         [6, 5, 5]],\n",
       "\n",
       "        [[9, 1, 3],\n",
       "         [6, 5, 6],\n",
       "         [2, 4, 8],\n",
       "         [6, 3, 0]],\n",
       "\n",
       "        [[8, 3, 8],\n",
       "         [1, 2, 9],\n",
       "         [7, 3, 7],\n",
       "         [4, 0, 5]]],\n",
       "\n",
       "\n",
       "       [[[1, 8, 6],\n",
       "         [1, 4, 1],\n",
       "         [0, 9, 5],\n",
       "         [2, 7, 8]],\n",
       "\n",
       "        [[9, 9, 7],\n",
       "         [2, 6, 4],\n",
       "         [9, 1, 3],\n",
       "         [6, 7, 2]],\n",
       "\n",
       "        [[9, 0, 5],\n",
       "         [2, 9, 2],\n",
       "         [1, 7, 1],\n",
       "         [2, 6, 0]]]])"
      ]
     },
     "execution_count": 40,
     "metadata": {},
     "output_type": "execute_result"
    }
   ],
   "source": [
    "# get first 3 numbers of the inner most arrays\n",
    "a4[:,:,:,:3]"
   ]
  },
  {
   "cell_type": "markdown",
   "id": "1bc3d23e-74a2-439f-af98-91d82b08aaf0",
   "metadata": {},
   "source": [
    "# 4.Manipulating & Comparing Arrays"
   ]
  },
  {
   "cell_type": "markdown",
   "id": "a7a6dad6-aea1-4943-bcb0-b061469b23f2",
   "metadata": {},
   "source": [
    "### Arithmetic"
   ]
  },
  {
   "cell_type": "code",
   "execution_count": 41,
   "id": "1915d6c6-67bd-4fae-b7c9-37b37452b5cc",
   "metadata": {},
   "outputs": [
    {
     "data": {
      "text/plain": [
       "(array([1, 2, 3]), array([1., 1., 1.]))"
      ]
     },
     "execution_count": 41,
     "metadata": {},
     "output_type": "execute_result"
    }
   ],
   "source": [
    "ones=np.ones(3)\n",
    "a1,ones"
   ]
  },
  {
   "cell_type": "code",
   "execution_count": 42,
   "id": "da2ffa6b-f588-4cd5-bb3e-a1d91b9291da",
   "metadata": {},
   "outputs": [
    {
     "data": {
      "text/plain": [
       "array([2., 3., 4.])"
      ]
     },
     "execution_count": 42,
     "metadata": {},
     "output_type": "execute_result"
    }
   ],
   "source": [
    "a1+ones"
   ]
  },
  {
   "cell_type": "code",
   "execution_count": 43,
   "id": "35fbbabb-83ca-4c4d-a614-aba4319d080b",
   "metadata": {},
   "outputs": [
    {
     "data": {
      "text/plain": [
       "array([0., 1., 2.])"
      ]
     },
     "execution_count": 43,
     "metadata": {},
     "output_type": "execute_result"
    }
   ],
   "source": [
    " a1-ones"
   ]
  },
  {
   "cell_type": "code",
   "execution_count": 44,
   "id": "010042d5-ca5d-4e8f-894f-cbb74a0c4e72",
   "metadata": {},
   "outputs": [
    {
     "data": {
      "text/plain": [
       "array([[1. , 2. , 3.3],\n",
       "       [4. , 5. , 6. ]])"
      ]
     },
     "execution_count": 44,
     "metadata": {},
     "output_type": "execute_result"
    }
   ],
   "source": [
    "a2"
   ]
  },
  {
   "cell_type": "code",
   "execution_count": 45,
   "id": "c6a9c9e2-2c02-4b37-9d76-74a6d51c3c69",
   "metadata": {},
   "outputs": [
    {
     "data": {
      "text/plain": [
       "array([[[ 1,  2,  3],\n",
       "        [ 4,  5,  6],\n",
       "        [ 7,  8,  9]],\n",
       "\n",
       "       [[10, 11, 12],\n",
       "        [13, 14, 15],\n",
       "        [16, 17, 18]]])"
      ]
     },
     "execution_count": 45,
     "metadata": {},
     "output_type": "execute_result"
    }
   ],
   "source": [
    "a3"
   ]
  },
  {
   "cell_type": "code",
   "execution_count": 46,
   "id": "a5a830f7-4191-41c7-a223-c27310b1c056",
   "metadata": {},
   "outputs": [
    {
     "ename": "ValueError",
     "evalue": "operands could not be broadcast together with shapes (2,3) (2,3,3) ",
     "output_type": "error",
     "traceback": [
      "\u001b[1;31m---------------------------------------------------------------------------\u001b[0m",
      "\u001b[1;31mValueError\u001b[0m                                Traceback (most recent call last)",
      "Cell \u001b[1;32mIn[46], line 1\u001b[0m\n\u001b[1;32m----> 1\u001b[0m \u001b[43ma2\u001b[49m\u001b[38;5;241;43m+\u001b[39;49m\u001b[43ma3\u001b[49m\n",
      "\u001b[1;31mValueError\u001b[0m: operands could not be broadcast together with shapes (2,3) (2,3,3) "
     ]
    }
   ],
   "source": [
    "a2+a3"
   ]
  },
  {
   "cell_type": "code",
   "execution_count": null,
   "id": "891acc50-eb0e-4d4e-bbf2-b8054cd88a5b",
   "metadata": {},
   "outputs": [],
   "source": [
    "aa2 = np.random.randint(0,3,(3,3,2,3))\n",
    "aa2,a2"
   ]
  },
  {
   "cell_type": "code",
   "execution_count": null,
   "id": "4cb10cab-b959-4801-8934-1ed17ab398cd",
   "metadata": {},
   "outputs": [],
   "source": [
    "aa2+a2"
   ]
  },
  {
   "cell_type": "code",
   "execution_count": null,
   "id": "d02664e3-f056-40bc-b504-6e83271775b4",
   "metadata": {},
   "outputs": [],
   "source": [
    "np.add(a1,a2)"
   ]
  },
  {
   "cell_type": "markdown",
   "id": "2865c724-b843-417d-830f-f2f37af37e32",
   "metadata": {},
   "source": [
    "### Aggregation\n",
    "Aggregation = performing same operations on a number of things"
   ]
  },
  {
   "cell_type": "code",
   "execution_count": null,
   "id": "9b004fea-37db-4d86-9fbd-cc484d096fa2",
   "metadata": {},
   "outputs": [],
   "source": [
    "a1.sum(), sum(a1)"
   ]
  },
  {
   "cell_type": "markdown",
   "id": "2595f1eb-79db-44a8-94e1-ef76b588cfcb",
   "metadata": {},
   "source": [
    "use python's methods (`sum()`) on python datatypes  and use Numpy's \n",
    "methods on Numpy arrays (`np.sum()`)"
   ]
  },
  {
   "cell_type": "code",
   "execution_count": null,
   "id": "23edf0e8-14d7-4f94-a5d4-64adfdebcad4",
   "metadata": {},
   "outputs": [],
   "source": [
    "# creating a massive array \n",
    "mass_ar = np.random.random(100000)\n",
    "mass_ar.size"
   ]
  },
  {
   "cell_type": "code",
   "execution_count": null,
   "id": "d41ff161-6c7e-42f6-bf6e-6efc533a024d",
   "metadata": {},
   "outputs": [],
   "source": [
    "mass_ar[:10]"
   ]
  },
  {
   "cell_type": "code",
   "execution_count": null,
   "id": "52e6162b-11af-4ffe-90ba-e4d6ad58b12d",
   "metadata": {},
   "outputs": [],
   "source": [
    "%timeit  sum(mass_ar) # Python's sum()\n",
    "%timeit np.sum(mass_ar) # Numpy's np.sum()"
   ]
  },
  {
   "cell_type": "code",
   "execution_count": null,
   "id": "d50d35ba-7652-4edf-ac71-2b01e2f5ff56",
   "metadata": {},
   "outputs": [],
   "source": [
    "a2"
   ]
  },
  {
   "cell_type": "code",
   "execution_count": null,
   "id": "1ac06a11-cd03-403d-8ff3-e7ae258ff492",
   "metadata": {},
   "outputs": [],
   "source": [
    "np.mean(a2), np.max(a2), np.min(a2), np.std(a2), np.var(a2)"
   ]
  },
  {
   "cell_type": "code",
   "execution_count": null,
   "id": "f57b1e0b-f53e-4321-ab1e-9bb242827bd0",
   "metadata": {},
   "outputs": [],
   "source": [
    "#demo of variance and standard deviation\n",
    "high_var = np.array([1,100,200,3000,4000,5000])\n",
    "low_var = np.array([2,4,5,6,7,9])"
   ]
  },
  {
   "cell_type": "code",
   "execution_count": null,
   "id": "6f1372ae-623b-465b-abdc-6d180bbf9943",
   "metadata": {},
   "outputs": [],
   "source": [
    "high_var.var(),low_var.var()"
   ]
  },
  {
   "cell_type": "code",
   "execution_count": null,
   "id": "16e74131-3f75-4933-91eb-523104edf259",
   "metadata": {},
   "outputs": [],
   "source": [
    "high_var.std(), low_var.std()"
   ]
  },
  {
   "cell_type": "code",
   "execution_count": null,
   "id": "45b7b458-a53f-4ee6-843a-cae0e7db0e33",
   "metadata": {},
   "outputs": [],
   "source": [
    "%matplotlib inline\n",
    "import matplotlib.pyplot as plt \n",
    "plt.hist(high_var)\n",
    "plt.show()"
   ]
  },
  {
   "cell_type": "code",
   "execution_count": null,
   "id": "b121beec-2658-4b31-acdd-2b36d6e9339c",
   "metadata": {},
   "outputs": [],
   "source": [
    "plt.hist(low_var)\n",
    "plt.show()"
   ]
  },
  {
   "cell_type": "markdown",
   "id": "1f05393b-1db4-442c-85cc-f9d8a578c5b1",
   "metadata": {},
   "source": [
    "### Reshaping and Transposing "
   ]
  },
  {
   "cell_type": "code",
   "execution_count": null,
   "id": "881aaef5-6004-45c0-a2f6-e22975001b02",
   "metadata": {},
   "outputs": [],
   "source": [
    "a2.shape, a3.shape"
   ]
  },
  {
   "cell_type": "markdown",
   "id": "ea5d6bad-bdcb-432e-bdcd-80cd29d8f0cf",
   "metadata": {},
   "source": [
    "#### one of the rules of broadcasting :\n",
    "numpy compares their shape starting with the trailing dimsons and works it way forward.\n",
    "two dimsons are compatible if  :\n",
    "\n",
    "1.they are equal\n",
    "\n",
    "2.one of them is 1"
   ]
  },
  {
   "cell_type": "code",
   "execution_count": null,
   "id": "ebf4a9d6-176e-40ac-8404-394c90de0b1f",
   "metadata": {},
   "outputs": [],
   "source": [
    "a2.reshape(2,3,1)"
   ]
  },
  {
   "cell_type": "code",
   "execution_count": null,
   "id": "6a65cecb-6996-4017-9f56-aa5daa5e3ef8",
   "metadata": {},
   "outputs": [],
   "source": [
    "a2.reshape(2,3,1)*a3"
   ]
  },
  {
   "cell_type": "code",
   "execution_count": null,
   "id": "b10feab2-5d47-4d70-b0dd-69aff42c0726",
   "metadata": {},
   "outputs": [],
   "source": [
    "a3.reshape(3,2,3)*a2"
   ]
  },
  {
   "cell_type": "code",
   "execution_count": null,
   "id": "54483196-e2d9-40ce-89f9-7137706eab30",
   "metadata": {},
   "outputs": [],
   "source": [
    "a2, a2.shape, a3.shape"
   ]
  },
  {
   "cell_type": "code",
   "execution_count": null,
   "id": "f2b5c216-1979-490b-8a73-ab5157d94cce",
   "metadata": {},
   "outputs": [],
   "source": [
    "# Transpose\n",
    "a2.T, a2.T.shape, a3.T.shape"
   ]
  },
  {
   "cell_type": "markdown",
   "id": "f655e756-a22a-454d-9c76-e2104a91ad67",
   "metadata": {},
   "source": [
    "## Dot Product"
   ]
  },
  {
   "cell_type": "code",
   "execution_count": null,
   "id": "3d9f9264-7231-46d1-9cff-1c00ce6137e0",
   "metadata": {},
   "outputs": [],
   "source": [
    "np.random.seed(0)\n",
    "mat2 = np.random.randint(10,size=(5,3))\n",
    "mat1 = np.random.randint(10,size=(5,3))"
   ]
  },
  {
   "cell_type": "code",
   "execution_count": null,
   "id": "762aa932-7958-4e08-88c0-ada9f3593e9c",
   "metadata": {},
   "outputs": [],
   "source": [
    "mat1, mat2"
   ]
  },
  {
   "cell_type": "code",
   "execution_count": null,
   "id": "a1c94efc-dc6c-4cd7-aa92-938d2a5b6123",
   "metadata": {},
   "outputs": [],
   "source": [
    "# key wise multiplication(Hadamard product)\n",
    "mat1*mat2"
   ]
  },
  {
   "cell_type": "code",
   "execution_count": null,
   "id": "a41e621c-8d75-4cf8-a518-787d424e8585",
   "metadata": {},
   "outputs": [],
   "source": [
    "# Dot product \n",
    "np.dot(mat1,mat2.reshape(3,5))"
   ]
  },
  {
   "cell_type": "code",
   "execution_count": null,
   "id": "f2a25c99-2020-4468-9557-1a904fb8b71e",
   "metadata": {},
   "outputs": [],
   "source": [
    "np.dot(mat1, mat2.T)"
   ]
  },
  {
   "cell_type": "code",
   "execution_count": null,
   "id": "3e9016fb-239a-44a2-ab82-7004a12a0f38",
   "metadata": {},
   "outputs": [],
   "source": [
    "t1 = np.random.randint(0,10,(100,100))\n",
    "t2 = np.random.randint(0,10,(100,100))"
   ]
  },
  {
   "cell_type": "code",
   "execution_count": null,
   "id": "6ad9cfdd-b96d-4969-a8d9-e992fd63bdfa",
   "metadata": {},
   "outputs": [],
   "source": [
    "%timeit t1*t2 \n",
    "%timeit np.dot(t1,t2)"
   ]
  },
  {
   "cell_type": "markdown",
   "id": "64394007-8636-4df3-bb87-9011f12abd2d",
   "metadata": {},
   "source": [
    "## Dot product ex (nut butter sales)"
   ]
  },
  {
   "cell_type": "code",
   "execution_count": 48,
   "id": "345ddfdb-a075-46d6-8c81-a77fdd7f6b6f",
   "metadata": {},
   "outputs": [
    {
     "data": {
      "text/plain": [
       "array([[12, 15,  0],\n",
       "       [ 3,  3,  7],\n",
       "       [ 9, 19, 18],\n",
       "       [ 4,  6, 12],\n",
       "       [ 1,  6,  7]])"
      ]
     },
     "execution_count": 48,
     "metadata": {},
     "output_type": "execute_result"
    }
   ],
   "source": [
    "np.random.seed(0)\n",
    "# Number of jars sold\n",
    "sales_am = np.random.randint(20,size=(5,3))\n",
    "sales_am"
   ]
  },
  {
   "cell_type": "code",
   "execution_count": 50,
   "id": "48c68b36-cc6f-4ac0-a99f-a9ba0a20c2c0",
   "metadata": {},
   "outputs": [
    {
     "data": {
      "text/html": [
       "<div>\n",
       "<style scoped>\n",
       "    .dataframe tbody tr th:only-of-type {\n",
       "        vertical-align: middle;\n",
       "    }\n",
       "\n",
       "    .dataframe tbody tr th {\n",
       "        vertical-align: top;\n",
       "    }\n",
       "\n",
       "    .dataframe thead th {\n",
       "        text-align: right;\n",
       "    }\n",
       "</style>\n",
       "<table border=\"1\" class=\"dataframe\">\n",
       "  <thead>\n",
       "    <tr style=\"text-align: right;\">\n",
       "      <th></th>\n",
       "      <th>Almond</th>\n",
       "      <th>Peanut</th>\n",
       "      <th>Cashew</th>\n",
       "    </tr>\n",
       "  </thead>\n",
       "  <tbody>\n",
       "    <tr>\n",
       "      <th>Mon</th>\n",
       "      <td>12</td>\n",
       "      <td>15</td>\n",
       "      <td>0</td>\n",
       "    </tr>\n",
       "    <tr>\n",
       "      <th>Tue</th>\n",
       "      <td>3</td>\n",
       "      <td>3</td>\n",
       "      <td>7</td>\n",
       "    </tr>\n",
       "    <tr>\n",
       "      <th>Wed</th>\n",
       "      <td>9</td>\n",
       "      <td>19</td>\n",
       "      <td>18</td>\n",
       "    </tr>\n",
       "    <tr>\n",
       "      <th>Thur</th>\n",
       "      <td>4</td>\n",
       "      <td>6</td>\n",
       "      <td>12</td>\n",
       "    </tr>\n",
       "    <tr>\n",
       "      <th>Fri</th>\n",
       "      <td>1</td>\n",
       "      <td>6</td>\n",
       "      <td>7</td>\n",
       "    </tr>\n",
       "  </tbody>\n",
       "</table>\n",
       "</div>"
      ],
      "text/plain": [
       "      Almond  Peanut  Cashew\n",
       "Mon       12      15       0\n",
       "Tue        3       3       7\n",
       "Wed        9      19      18\n",
       "Thur       4       6      12\n",
       "Fri        1       6       7"
      ]
     },
     "execution_count": 50,
     "metadata": {},
     "output_type": "execute_result"
    }
   ],
   "source": [
    "# Create weekly_sales Dataframe\n",
    "week_sales = pd.DataFrame(sales_am, index=['Mon','Tue','Wed','Thur','Fri'], columns=['Almond','Peanut','Cashew'])\n",
    "week_sales"
   ]
  },
  {
   "cell_type": "code",
   "execution_count": 62,
   "id": "e0ad179a-8dfb-4f5e-9f87-a18736812988",
   "metadata": {},
   "outputs": [
    {
     "data": {
      "text/plain": [
       "array([10,  8, 12])"
      ]
     },
     "execution_count": 62,
     "metadata": {},
     "output_type": "execute_result"
    }
   ],
   "source": [
    "# Create prices array\n",
    "prices = np.array([10,8,12])\n",
    "prices"
   ]
  },
  {
   "cell_type": "code",
   "execution_count": 59,
   "id": "32307c3d-a280-4723-8007-6cef23a8d58c",
   "metadata": {},
   "outputs": [
    {
     "data": {
      "text/html": [
       "<div>\n",
       "<style scoped>\n",
       "    .dataframe tbody tr th:only-of-type {\n",
       "        vertical-align: middle;\n",
       "    }\n",
       "\n",
       "    .dataframe tbody tr th {\n",
       "        vertical-align: top;\n",
       "    }\n",
       "\n",
       "    .dataframe thead th {\n",
       "        text-align: right;\n",
       "    }\n",
       "</style>\n",
       "<table border=\"1\" class=\"dataframe\">\n",
       "  <thead>\n",
       "    <tr style=\"text-align: right;\">\n",
       "      <th></th>\n",
       "      <th>Almond</th>\n",
       "      <th>Peanut</th>\n",
       "      <th>Cashew</th>\n",
       "    </tr>\n",
       "  </thead>\n",
       "  <tbody>\n",
       "    <tr>\n",
       "      <th>prices</th>\n",
       "      <td>10</td>\n",
       "      <td>8</td>\n",
       "      <td>12</td>\n",
       "    </tr>\n",
       "  </tbody>\n",
       "</table>\n",
       "</div>"
      ],
      "text/plain": [
       "        Almond  Peanut  Cashew\n",
       "prices      10       8      12"
      ]
     },
     "execution_count": 59,
     "metadata": {},
     "output_type": "execute_result"
    }
   ],
   "source": [
    "# create butter_prices DataFrame\n",
    "butter_prices = pd.DataFrame(prices.reshape(1,3),index=['prices'],columns=['Almond','Peanut','Cashew'])\n",
    "butter_prices"
   ]
  },
  {
   "cell_type": "code",
   "execution_count": 60,
   "id": "ac36c3a2-f5df-433f-a23d-2ca7f35019db",
   "metadata": {},
   "outputs": [
    {
     "data": {
      "text/plain": [
       "((3,), (1, 3))"
      ]
     },
     "execution_count": 60,
     "metadata": {},
     "output_type": "execute_result"
    }
   ],
   "source": [
    "prices.shape, butter_prices.shape"
   ]
  },
  {
   "cell_type": "code",
   "execution_count": 76,
   "id": "3c82d6fe-bede-4cbe-be7e-1bf1ee2c3703",
   "metadata": {},
   "outputs": [
    {
     "data": {
      "text/plain": [
       "array([240, 138, 458, 232, 142])"
      ]
     },
     "execution_count": 76,
     "metadata": {},
     "output_type": "execute_result"
    }
   ],
   "source": [
    "total_sales = np.dot(prices,sales_am.T)\n",
    "total_sales"
   ]
  },
  {
   "cell_type": "code",
   "execution_count": 84,
   "id": "30d5ca85-3395-44da-b453-15881faea873",
   "metadata": {},
   "outputs": [
    {
     "data": {
      "text/html": [
       "<div>\n",
       "<style scoped>\n",
       "    .dataframe tbody tr th:only-of-type {\n",
       "        vertical-align: middle;\n",
       "    }\n",
       "\n",
       "    .dataframe tbody tr th {\n",
       "        vertical-align: top;\n",
       "    }\n",
       "\n",
       "    .dataframe thead th {\n",
       "        text-align: right;\n",
       "    }\n",
       "</style>\n",
       "<table border=\"1\" class=\"dataframe\">\n",
       "  <thead>\n",
       "    <tr style=\"text-align: right;\">\n",
       "      <th></th>\n",
       "      <th>Almond</th>\n",
       "      <th>Peanut</th>\n",
       "      <th>Cashew</th>\n",
       "      <th>Total ($)</th>\n",
       "    </tr>\n",
       "  </thead>\n",
       "  <tbody>\n",
       "    <tr>\n",
       "      <th>Mon</th>\n",
       "      <td>12</td>\n",
       "      <td>15</td>\n",
       "      <td>0</td>\n",
       "      <td>240</td>\n",
       "    </tr>\n",
       "    <tr>\n",
       "      <th>Tue</th>\n",
       "      <td>3</td>\n",
       "      <td>3</td>\n",
       "      <td>7</td>\n",
       "      <td>138</td>\n",
       "    </tr>\n",
       "    <tr>\n",
       "      <th>Wed</th>\n",
       "      <td>9</td>\n",
       "      <td>19</td>\n",
       "      <td>18</td>\n",
       "      <td>458</td>\n",
       "    </tr>\n",
       "    <tr>\n",
       "      <th>Thur</th>\n",
       "      <td>4</td>\n",
       "      <td>6</td>\n",
       "      <td>12</td>\n",
       "      <td>232</td>\n",
       "    </tr>\n",
       "    <tr>\n",
       "      <th>Fri</th>\n",
       "      <td>1</td>\n",
       "      <td>6</td>\n",
       "      <td>7</td>\n",
       "      <td>142</td>\n",
       "    </tr>\n",
       "  </tbody>\n",
       "</table>\n",
       "</div>"
      ],
      "text/plain": [
       "      Almond  Peanut  Cashew  Total ($)\n",
       "Mon       12      15       0        240\n",
       "Tue        3       3       7        138\n",
       "Wed        9      19      18        458\n",
       "Thur       4       6      12        232\n",
       "Fri        1       6       7        142"
      ]
     },
     "execution_count": 84,
     "metadata": {},
     "output_type": "execute_result"
    }
   ],
   "source": [
    "week_sales['Total ($)']=total_sales.reshape(5,1)\n",
    "# week_sales.drop(['Total'],axis=1,inplace=True)\n",
    "week_sales"
   ]
  },
  {
   "cell_type": "code",
   "execution_count": 75,
   "id": "77042df4-3083-4e48-bd3f-1831b85984db",
   "metadata": {},
   "outputs": [
    {
     "data": {
      "text/html": [
       "<div>\n",
       "<style scoped>\n",
       "    .dataframe tbody tr th:only-of-type {\n",
       "        vertical-align: middle;\n",
       "    }\n",
       "\n",
       "    .dataframe tbody tr th {\n",
       "        vertical-align: top;\n",
       "    }\n",
       "\n",
       "    .dataframe thead th {\n",
       "        text-align: right;\n",
       "    }\n",
       "</style>\n",
       "<table border=\"1\" class=\"dataframe\">\n",
       "  <thead>\n",
       "    <tr style=\"text-align: right;\">\n",
       "      <th></th>\n",
       "      <th>Almond</th>\n",
       "      <th>Peanut</th>\n",
       "      <th>Cashew</th>\n",
       "    </tr>\n",
       "  </thead>\n",
       "  <tbody>\n",
       "    <tr>\n",
       "      <th>prices</th>\n",
       "      <td>10</td>\n",
       "      <td>8</td>\n",
       "      <td>12</td>\n",
       "    </tr>\n",
       "  </tbody>\n",
       "</table>\n",
       "</div>"
      ],
      "text/plain": [
       "        Almond  Peanut  Cashew\n",
       "prices      10       8      12"
      ]
     },
     "execution_count": 75,
     "metadata": {},
     "output_type": "execute_result"
    }
   ],
   "source": [
    "butter_prices"
   ]
  },
  {
   "cell_type": "markdown",
   "id": "0f052d0f-1675-4f24-9432-42569d9620bc",
   "metadata": {},
   "source": [
    "### Comparison Operators"
   ]
  },
  {
   "cell_type": "code",
   "execution_count": 86,
   "id": "a761cce6-b3d4-43c4-9ead-1211975c2f58",
   "metadata": {},
   "outputs": [
    {
     "data": {
      "text/plain": [
       "(array([1, 2, 3]),\n",
       " array([[1. , 2. , 3.3],\n",
       "        [4. , 5. , 6. ]]))"
      ]
     },
     "execution_count": 86,
     "metadata": {},
     "output_type": "execute_result"
    }
   ],
   "source": [
    "a1, a2"
   ]
  },
  {
   "cell_type": "code",
   "execution_count": 89,
   "id": "660d0502-282a-49e3-b644-675b265fd7b0",
   "metadata": {},
   "outputs": [
    {
     "data": {
      "text/plain": [
       "array([[False, False, False],\n",
       "       [False, False, False]])"
      ]
     },
     "execution_count": 89,
     "metadata": {},
     "output_type": "execute_result"
    }
   ],
   "source": [
    "a1 > a2"
   ]
  },
  {
   "cell_type": "code",
   "execution_count": 90,
   "id": "98a52c47-b3a6-47e5-8c19-3ad50aa67dc5",
   "metadata": {},
   "outputs": [
    {
     "data": {
      "text/plain": [
       "array([[ True,  True, False],\n",
       "       [False, False, False]])"
      ]
     },
     "execution_count": 90,
     "metadata": {},
     "output_type": "execute_result"
    }
   ],
   "source": [
    "a1 >= a2"
   ]
  },
  {
   "cell_type": "markdown",
   "id": "ddf4f251-859a-4b85-9d2b-85d15f029091",
   "metadata": {},
   "source": [
    "### Sorting Arrays"
   ]
  },
  {
   "cell_type": "code",
   "execution_count": 93,
   "id": "9bad508c-77dc-4744-aacb-7511f5820752",
   "metadata": {},
   "outputs": [
    {
     "data": {
      "text/plain": [
       "array([[7, 8, 1, 5, 9],\n",
       "       [8, 9, 4, 3, 0],\n",
       "       [3, 5, 0, 2, 3]])"
      ]
     },
     "execution_count": 93,
     "metadata": {},
     "output_type": "execute_result"
    }
   ],
   "source": [
    "random_array = np.random.randint(10,size=(3,5))\n",
    "random_array"
   ]
  },
  {
   "cell_type": "code",
   "execution_count": 94,
   "id": "1ec0b065-9fa5-4d80-a10b-5083ae8bac9d",
   "metadata": {},
   "outputs": [
    {
     "data": {
      "text/plain": [
       "array([[1, 5, 7, 8, 9],\n",
       "       [0, 3, 4, 8, 9],\n",
       "       [0, 2, 3, 3, 5]])"
      ]
     },
     "execution_count": 94,
     "metadata": {},
     "output_type": "execute_result"
    }
   ],
   "source": [
    "np.sort(random_array)"
   ]
  },
  {
   "cell_type": "code",
   "execution_count": 95,
   "id": "5761198e-4d38-458d-bb26-201fd85bf1a2",
   "metadata": {},
   "outputs": [
    {
     "data": {
      "text/plain": [
       "array([[7, 8, 1, 5, 9],\n",
       "       [8, 9, 4, 3, 0],\n",
       "       [3, 5, 0, 2, 3]])"
      ]
     },
     "execution_count": 95,
     "metadata": {},
     "output_type": "execute_result"
    }
   ],
   "source": [
    "random_array"
   ]
  },
  {
   "cell_type": "code",
   "execution_count": 100,
   "id": "40d76486-39b5-4665-abff-f7e07631130d",
   "metadata": {},
   "outputs": [
    {
     "data": {
      "text/plain": [
       "array([[2, 3, 0, 1, 4],\n",
       "       [4, 3, 2, 0, 1],\n",
       "       [2, 3, 0, 4, 1]], dtype=int64)"
      ]
     },
     "execution_count": 100,
     "metadata": {},
     "output_type": "execute_result"
    }
   ],
   "source": [
    "# sorting indices in place of element values returns their sorted indices / positions\n",
    "np.argsort(random_array)"
   ]
  },
  {
   "cell_type": "code",
   "execution_count": 101,
   "id": "810fbce3-422b-4fdf-8dbb-1e5535df3d08",
   "metadata": {},
   "outputs": [
    {
     "data": {
      "text/plain": [
       "array([1, 2, 3])"
      ]
     },
     "execution_count": 101,
     "metadata": {},
     "output_type": "execute_result"
    }
   ],
   "source": [
    "a1"
   ]
  },
  {
   "cell_type": "code",
   "execution_count": 102,
   "id": "93707502-ae8a-461d-b834-4e896bf5b425",
   "metadata": {},
   "outputs": [
    {
     "data": {
      "text/plain": [
       "array([0, 1, 2], dtype=int64)"
      ]
     },
     "execution_count": 102,
     "metadata": {},
     "output_type": "execute_result"
    }
   ],
   "source": [
    "np.argsort(a1)"
   ]
  },
  {
   "cell_type": "code",
   "execution_count": 105,
   "id": "eb0b285d-0491-4eb2-94b3-00122602287f",
   "metadata": {},
   "outputs": [
    {
     "data": {
      "text/plain": [
       "(4, 9)"
      ]
     },
     "execution_count": 105,
     "metadata": {},
     "output_type": "execute_result"
    }
   ],
   "source": [
    "np.argmax(random_array), np.argmin(random_array)"
   ]
  },
  {
   "cell_type": "code",
   "execution_count": 106,
   "id": "95716fdd-e079-49b8-ad87-0ae852dc86ee",
   "metadata": {},
   "outputs": [
    {
     "data": {
      "text/plain": [
       "(2, 0)"
      ]
     },
     "execution_count": 106,
     "metadata": {},
     "output_type": "execute_result"
    }
   ],
   "source": [
    "np.argmax(a1), np.argmin(a1)"
   ]
  },
  {
   "cell_type": "code",
   "execution_count": 107,
   "id": "04248f09-bbb7-4588-a25b-1254cd740800",
   "metadata": {},
   "outputs": [
    {
     "data": {
      "text/plain": [
       "array([[7, 8, 1, 5, 9],\n",
       "       [8, 9, 4, 3, 0],\n",
       "       [3, 5, 0, 2, 3]])"
      ]
     },
     "execution_count": 107,
     "metadata": {},
     "output_type": "execute_result"
    }
   ],
   "source": [
    "random_array"
   ]
  },
  {
   "cell_type": "code",
   "execution_count": 108,
   "id": "e3644841-bac2-44b0-8db0-f76e132cd32c",
   "metadata": {},
   "outputs": [
    {
     "data": {
      "text/plain": [
       "array([1, 1, 1, 0, 0], dtype=int64)"
      ]
     },
     "execution_count": 108,
     "metadata": {},
     "output_type": "execute_result"
    }
   ],
   "source": [
    "np.argmax(random_array,axis=0) # along columns\n"
   ]
  },
  {
   "cell_type": "code",
   "execution_count": 110,
   "id": "d1245569-6502-4326-b124-e404adb9f596",
   "metadata": {},
   "outputs": [
    {
     "data": {
      "text/plain": [
       "array([4, 1, 1], dtype=int64)"
      ]
     },
     "execution_count": 110,
     "metadata": {},
     "output_type": "execute_result"
    }
   ],
   "source": [
    "np.argmax(random_array,axis=1) # along rows"
   ]
  },
  {
   "cell_type": "markdown",
   "id": "ea3fd710-c0f6-4644-8f8c-57ca3fd95e3c",
   "metadata": {},
   "source": [
    "## Practical Example - Numpy in action!!"
   ]
  },
  {
   "cell_type": "markdown",
   "id": "ba8c22b0-e7b5-4498-b192-6e99e4e4d56e",
   "metadata": {},
   "source": [
    "<img src=\"images/panda.png\"/>"
   ]
  },
  {
   "cell_type": "code",
   "execution_count": 118,
   "id": "a5433ba6-1be2-4d51-9584-893a2cebff0d",
   "metadata": {},
   "outputs": [
    {
     "data": {
      "text/plain": [
       "numpy.ndarray"
      ]
     },
     "execution_count": 118,
     "metadata": {},
     "output_type": "execute_result"
    }
   ],
   "source": [
    "# Turn an image into  a Numpy array\n",
    "from matplotlib.image import imread\n",
    "panda = imread('images/panda.png')\n",
    "type(panda)"
   ]
  },
  {
   "cell_type": "code",
   "execution_count": 119,
   "id": "cf041462-6158-49e3-82cb-dfe4659f1756",
   "metadata": {},
   "outputs": [
    {
     "data": {
      "text/plain": [
       "(24465000, (2330, 3500, 3), 3)"
      ]
     },
     "execution_count": 119,
     "metadata": {},
     "output_type": "execute_result"
    }
   ],
   "source": [
    "panda.size, panda.shape, panda.ndim"
   ]
  },
  {
   "cell_type": "code",
   "execution_count": 120,
   "id": "7aa45009-1c7a-4f4c-b502-de1c35a32fdb",
   "metadata": {},
   "outputs": [
    {
     "data": {
      "text/plain": [
       "array([[[0.05490196, 0.10588235, 0.06666667],\n",
       "        [0.05490196, 0.10588235, 0.06666667],\n",
       "        [0.05490196, 0.10588235, 0.06666667],\n",
       "        ...,\n",
       "        [0.16470589, 0.12941177, 0.09411765],\n",
       "        [0.16470589, 0.12941177, 0.09411765],\n",
       "        [0.16470589, 0.12941177, 0.09411765]],\n",
       "\n",
       "       [[0.05490196, 0.10588235, 0.06666667],\n",
       "        [0.05490196, 0.10588235, 0.06666667],\n",
       "        [0.05490196, 0.10588235, 0.06666667],\n",
       "        ...,\n",
       "        [0.16470589, 0.12941177, 0.09411765],\n",
       "        [0.16470589, 0.12941177, 0.09411765],\n",
       "        [0.16470589, 0.12941177, 0.09411765]]], dtype=float32)"
      ]
     },
     "execution_count": 120,
     "metadata": {},
     "output_type": "execute_result"
    }
   ],
   "source": [
    "panda[:2]"
   ]
  },
  {
   "cell_type": "markdown",
   "id": "13d61994-ebcf-40c6-a3d7-3447bc111dfd",
   "metadata": {},
   "source": [
    "<img src='images/car-photo.png' />"
   ]
  },
  {
   "cell_type": "code",
   "execution_count": 123,
   "id": "cf7e1c1a-f6ba-4ee1-b107-aa75104e8aec",
   "metadata": {},
   "outputs": [
    {
     "data": {
      "text/plain": [
       "(991300, (431, 575, 4), 3)"
      ]
     },
     "execution_count": 123,
     "metadata": {},
     "output_type": "execute_result"
    }
   ],
   "source": [
    "car = imread('images/car-photo.png')\n",
    "car.size, car.shape, car.ndim"
   ]
  },
  {
   "cell_type": "markdown",
   "id": "4ffe56db-038d-4bd7-a9c8-a5387bba07b8",
   "metadata": {},
   "source": [
    "<img src=\"images/dog-photo.png\" />"
   ]
  },
  {
   "cell_type": "code",
   "execution_count": 124,
   "id": "c7555870-bed4-43dd-86e1-93a822c1ce83",
   "metadata": {},
   "outputs": [
    {
     "data": {
      "text/plain": [
       "(993600, (432, 575, 4), 3)"
      ]
     },
     "execution_count": 124,
     "metadata": {},
     "output_type": "execute_result"
    }
   ],
   "source": [
    "dog = imread('images/dog-photo.png')\n",
    "dog.size, dog.shape, dog.ndim"
   ]
  },
  {
   "cell_type": "code",
   "execution_count": null,
   "id": "b5b61e27-016a-42b3-ba15-1ddafd21872c",
   "metadata": {},
   "outputs": [],
   "source": []
  }
 ],
 "metadata": {
  "kernelspec": {
   "display_name": "Python 3 (ipykernel)",
   "language": "python",
   "name": "python3"
  },
  "language_info": {
   "codemirror_mode": {
    "name": "ipython",
    "version": 3
   },
   "file_extension": ".py",
   "mimetype": "text/x-python",
   "name": "python",
   "nbconvert_exporter": "python",
   "pygments_lexer": "ipython3",
   "version": "3.10.13"
  }
 },
 "nbformat": 4,
 "nbformat_minor": 5
}
